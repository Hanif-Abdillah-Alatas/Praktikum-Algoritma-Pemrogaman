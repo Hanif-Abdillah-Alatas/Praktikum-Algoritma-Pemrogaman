{
  "nbformat": 4,
  "nbformat_minor": 0,
  "metadata": {
    "colab": {
      "provenance": [],
      "authorship_tag": "ABX9TyOGZaoLwbSQQZz8OTCeM43j",
      "include_colab_link": true
    },
    "kernelspec": {
      "name": "python3",
      "display_name": "Python 3"
    },
    "language_info": {
      "name": "python"
    }
  },
  "cells": [
    {
      "cell_type": "markdown",
      "metadata": {
        "id": "view-in-github",
        "colab_type": "text"
      },
      "source": [
        "<a href=\"https://colab.research.google.com/github/Hanif-Abdillah-Alatas/Praktikum-Algoritma-Pemrograman/blob/main/Week_2_Algoritma_Pemrograman.ipynb\" target=\"_parent\"><img src=\"https://colab.research.google.com/assets/colab-badge.svg\" alt=\"Open In Colab\"/></a>"
      ]
    },
    {
      "cell_type": "markdown",
      "source": [
        "**Weekly Exercise 1**"
      ],
      "metadata": {
        "id": "xC2u5p3d9B8n"
      }
    },
    {
      "cell_type": "code",
      "execution_count": null,
      "metadata": {
        "colab": {
          "base_uri": "https://localhost:8080/"
        },
        "id": "KMood6hu6y91",
        "outputId": "b88c1993-7789-4dc2-d3b5-4a7d24561096"
      },
      "outputs": [
        {
          "output_type": "stream",
          "name": "stdout",
          "text": [
            "Panjang = 20.5\n",
            "Lebar = 25\n",
            "Tinggi = 10\n",
            "Keliling = 91.0\n",
            "Volume = 5125.0\n"
          ]
        }
      ],
      "source": [
        "panjang = 20.5\n",
        "lebar = 25\n",
        "tinggi = 10\n",
        "\n",
        "keliling = 2*(panjang+lebar)\n",
        "luas = panjang*lebar\n",
        "volume = panjang*lebar*tinggi\n",
        "\n",
        "print(\"Panjang =\", panjang)\n",
        "print(\"Lebar =\", lebar)\n",
        "print(\"Tinggi =\", tinggi)\n",
        "print(\"Keliling =\", keliling)\n",
        "print(\"Volume =\", volume)"
      ]
    },
    {
      "cell_type": "markdown",
      "source": [
        "**Weekly Exercise 2**"
      ],
      "metadata": {
        "id": "0JeWtxEE9i6m"
      }
    },
    {
      "cell_type": "code",
      "source": [
        "k1_sfr = 85     #k1=kalkulus 1\n",
        "ms_sfr = 75     #ms=metode statistika\n",
        "k1_amd = 80\n",
        "ms_amd = 90\n",
        "k1_adt = 75\n",
        "ms_adt = 80\n",
        "k1_nda = 95\n",
        "ms_nda = 80\n",
        "k1_wda = 85\n",
        "ms_wda = 85\n",
        "k1_hnf = 75\n",
        "ms_hnf = 90\n",
        "k1_and = 70\n",
        "ms_and = 75\n",
        "k1_dnr = 85\n",
        "ms_dnr = 85\n",
        "k1_hma = 80\n",
        "ms_hma = 75\n",
        "\n",
        "rataan_sfr = (k1_sfr+ms_sfr)/2\n",
        "jumlah_hnfand = (k1_hnf+ms_hnf)+(k1_and+ms_and)\n",
        "rataank1_4 = (k1_wda+k1_dnr+k1_hma+k1_nda)/4\n",
        "rataanms_4 = (ms_wda+ms_dnr+ms_hma+ms_nda)/4\n",
        "rataan_k1 = (k1_sfr+k1_amd+k1_adt+k1_nda+k1_wda+k1_hnf+k1_and+k1_dnr+k1_hma)/9\n",
        "rataan_ms = (ms_sfr+ms_amd+ms_adt+ms_nda+ms_wda+ms_hnf+ms_and+ms_dnr+ms_hma)/9\n",
        "\n",
        "print(\"1. Rata-Rata Nilai Shafira =\", rataan_sfr)\n",
        "print(\"2. Jumlah Semua Nilai Hanif dan Andi =\", jumlah_hnfand)\n",
        "print(\"3. Rata-Rata Nilai Kalkulus 1 Widya, Dhanar, Hikma, dan Nedia =\", rataank1_4)\n",
        "print(\"   Rata-Rata Nilai Metode Statistika Widya, Dhanar, Hikma, dan Nedia =\", rataanms_4)\n",
        "print(\"4. Rata-Rata Nilai Kalkulus 1 Semua Mahasiswa=\", rataan_k1)\n",
        "print(\"5. Rata-Rata Nilai Metode Statistika Semua Mahasiswa =\", rataan_ms)"
      ],
      "metadata": {
        "colab": {
          "base_uri": "https://localhost:8080/"
        },
        "id": "LzwF6hU4-d-7",
        "outputId": "c416bb15-4ce8-4301-db58-b2e5b05784e1"
      },
      "execution_count": null,
      "outputs": [
        {
          "output_type": "stream",
          "name": "stdout",
          "text": [
            "1. Rata-Rata Nilai Shafira = 80.0\n",
            "2. Jumlah Semua Nilai Hanif dan Andi = 310\n",
            "3. Rata-Rata Nilai Kalkulus 1 Widya, Dhanar, Hikma, dan Nedia = 86.25\n",
            "   Rata-Rata Nilai Metode Statistika Widya, Dhanar, Hikma, dan Nedia = 81.25\n",
            "4. Rata-Rata Nilai Kalkulus 1 Semua Mahasiswa= 81.11111111111111\n",
            "5. Rata-Rata Nilai Metode Statistika Semua Mahasiswa = 81.66666666666667\n"
          ]
        }
      ]
    },
    {
      "cell_type": "code",
      "source": [
        "#1. Rata-rata nilai Shafira\n",
        "rataan_nilai_shafira = (85+75)/2\n",
        "print(\"1. Rata-Rata Nilai Shafira =\", rataan_nilai_shafira)\n",
        "\n",
        "#2. Jumlah semua nilai Hanif dan Andi\n",
        "nilai_hanif = (75+90)\n",
        "nilai_andi = (70+75)\n",
        "jumlah_nilai_hanif_andi = (nilai_hanif+nilai_andi)\n",
        "print(\"2. Jumlah Semua Nilai Hanif dan Andi =\", jumlah_nilai_hanif_andi)\n",
        "\n",
        "#3. Rata-rata nilai Widya, Dhanar, Hikma, dan Nedia pada masing-masing mata kuliah\n",
        "rataan_nilai_4siswa_kalkulus1 = (85+85+80+95)/4\n",
        "rataan_nilai_4siswa_statistika = (85+85+75+80)/4\n",
        "print(\"3. Rata-Rata Nilai Kalkulus 1 Widya, Dhanar, Hikma, dan Nedia =\", rataan_nilai_4siswa_kalkulus1)\n",
        "print(\"   Rata-Rata Nilai Metode Statistika Widya, Dhanar, Hikma, dan Nedia =\", rataan_nilai_4siswa_statistika)\n",
        "\n",
        "#4. Rata-rata nilai Kalkulus 1 semua mahasiswa\n",
        "rataan_nilai_kalkulus1 = (85+80+75+95+85+75+70+85+80)/9\n",
        "print(\"4. Rata-Rata Nilai Kalkulus 1 Semua Mahasiswa =\", rataan_nilai_kalkulus1)\n",
        "\n",
        "#5. Rata-rata nilai Metode Statistika semua mahasiswa\n",
        "rataan_nilai_statistika = (75+90+80+80+85+90+75+85+75)/9\n",
        "print(\"5. Rata-Rata Nilai Metode Statistika Semua Mahasiswa =\", rataan_nilai_statistika)"
      ],
      "metadata": {
        "colab": {
          "base_uri": "https://localhost:8080/"
        },
        "id": "7Rvg6yffNVt_",
        "outputId": "e6dae4a8-d8ef-44d4-c553-d64d52be39c0"
      },
      "execution_count": null,
      "outputs": [
        {
          "output_type": "stream",
          "name": "stdout",
          "text": [
            "1. Rata-Rata Nilai Shafira = 80.0\n",
            "2. Jumlah Semua Nilai Hanif dan Andi = 310\n",
            "3. Rata-Rata Nilai Kalkulus 1 Widya, Dhanar, Hikma, dan Nedia = 86.25\n",
            "   Rata-Rata Nilai Metode Statistika Widya, Dhanar, Hikma, dan Nedia = 81.25\n",
            "4. Rata-Rata Nilai Kalkulus 1 Semua Mahasiswa = 81.11111111111111\n",
            "5. Rata-Rata Nilai Metode Statistika Semua Mahasiswa = 81.66666666666667\n"
          ]
        }
      ]
    },
    {
      "cell_type": "markdown",
      "source": [
        "**Weekly Exercise 3**"
      ],
      "metadata": {
        "id": "pSbABDAsSv_h"
      }
    },
    {
      "cell_type": "code",
      "source": [
        "jam_kerja_1hari = 8\n",
        "gaji_kerja_1jam = 30000\n",
        "\n",
        "#1. Gaji Dwi pada bulan Agustus\n",
        "jumlah_1bulan_agustus = 31\n",
        "jumlah_tidak_masuk = 3\n",
        "gaji_dwi_agustus = ((jumlah_1bulan_agustus-jumlah_tidak_masuk)*jam_kerja_1hari*gaji_kerja_1jam)\n",
        "print(\"1. Gaji Dwi Pada Bulan Agustus =\", gaji_dwi_agustus)\n",
        "\n",
        "#2. Tunjangan yang diterima Dwi pada bulan Agustus\n",
        "tunjangan = (10/100)\n",
        "tunjangan_dwi_agustus = (tunjangan*gaji_dwi_agustus)\n",
        "print(\"2. Jumlah Tunjangan Dwi Pada Bulan Agustus =\", tunjangan_dwi_agustus)\n",
        "\n",
        "#3. Gaji total Dwi pada bulan Agustus\n",
        "jam_lembur = 5\n",
        "gaji_lembur = 10000\n",
        "total_gaji_dwi_agustus = ((jam_lembur*gaji_lembur)+gaji_dwi_agustus+tunjangan_dwi_agustus)\n",
        "print(\"3. Gaji Total Dwi Pada Bulan Agustus =\", total_gaji_dwi_agustus)"
      ],
      "metadata": {
        "colab": {
          "base_uri": "https://localhost:8080/"
        },
        "id": "noYSI0dZTi4C",
        "outputId": "be1d4ad5-892f-4cbf-c759-a700c7b527bc"
      },
      "execution_count": null,
      "outputs": [
        {
          "output_type": "stream",
          "name": "stdout",
          "text": [
            "1. Gaji Dwi Pada Bulan Agustus = 6720000\n",
            "2. Jumlah Tunjangan Dwi Pada Bulan Agustus = 672000.0\n",
            "3. Gaji Total Dwi Pada Bulan Agustus = 7442000.0\n"
          ]
        }
      ]
    }
  ]
}