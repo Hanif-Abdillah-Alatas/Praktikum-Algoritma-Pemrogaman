{
  "nbformat": 4,
  "nbformat_minor": 0,
  "metadata": {
    "colab": {
      "provenance": [],
      "authorship_tag": "ABX9TyMSCD6Nz810/0GHK5UUjgj+",
      "include_colab_link": true
    },
    "kernelspec": {
      "name": "python3",
      "display_name": "Python 3"
    },
    "language_info": {
      "name": "python"
    }
  },
  "cells": [
    {
      "cell_type": "markdown",
      "metadata": {
        "id": "view-in-github",
        "colab_type": "text"
      },
      "source": [
        "<a href=\"https://colab.research.google.com/github/Hanif-Abdillah-Alatas/Praktikum-Algoritma-Pemrograman/blob/main/Week_10_Algoritma_Pemrograman.ipynb\" target=\"_parent\"><img src=\"https://colab.research.google.com/assets/colab-badge.svg\" alt=\"Open In Colab\"/></a>"
      ]
    },
    {
      "cell_type": "markdown",
      "source": [
        "**Weekly Exercise 1**"
      ],
      "metadata": {
        "id": "pRmmXjCGNSLJ"
      }
    },
    {
      "cell_type": "code",
      "source": [
        "def faktorial(x):\n",
        "    if x==1:\n",
        "        return 1\n",
        "    else:\n",
        "        return (x*faktorial(x-1))\n",
        "\n",
        "n = int(input(\"Masukkan Angka Positif: \"))\n",
        "if n<=0:\n",
        "    print(\"Bukan Bilangan Positif\")\n",
        "else:\n",
        "    x = n\n",
        "    faktorial(x)\n",
        "    print(\"Faktorial:\", faktorial(x))"
      ],
      "metadata": {
        "colab": {
          "base_uri": "https://localhost:8080/"
        },
        "id": "W2LoNFGRNR6p",
        "outputId": "7a0e36f5-f093-4d1f-b4ac-2e7912bcf21a"
      },
      "execution_count": 3,
      "outputs": [
        {
          "output_type": "stream",
          "name": "stdout",
          "text": [
            "Masukkan Angka Positif: 5\n",
            "Faktorial: 120\n"
          ]
        }
      ]
    },
    {
      "cell_type": "markdown",
      "source": [
        "**Weekly Exercise 2**"
      ],
      "metadata": {
        "id": "oCMZ90d8NNTa"
      }
    },
    {
      "cell_type": "code",
      "execution_count": 3,
      "metadata": {
        "colab": {
          "base_uri": "https://localhost:8080/"
        },
        "id": "txJZ_aepH_Dt",
        "outputId": "47de4f75-3b6d-43c0-a580-d0624903a864"
      },
      "outputs": [
        {
          "output_type": "stream",
          "name": "stdout",
          "text": [
            "Pilih Bangun Datar:\n",
            "1. Lingkaran\n",
            "2. Persegi\n",
            "3. Segitiga\n",
            "4. Selesai\n",
            "Masukkan No Pilihan Anda: 3\n",
            "\n",
            "Segitiga\n",
            "Masukkan Alas: 23\n",
            "Masukkan Tinggi: 41\n",
            "Luas Segitiga: 471.5\n"
          ]
        }
      ],
      "source": [
        "def luas_lingkaran(r):\n",
        "    luas = 3.14*r**2\n",
        "    return luas\n",
        "def luas_persegi(s):\n",
        "    luas = s*s\n",
        "    return luas\n",
        "def luas_segitiga(a, t):\n",
        "    luas = 0.5*a*t\n",
        "    return luas\n",
        "\n",
        "print('''Pilih Bangun Datar:\n",
        "1. Lingkaran\n",
        "2. Persegi\n",
        "3. Segitiga\n",
        "4. Selesai''')\n",
        "\n",
        "n = input(\"Masukkan No Pilihan Anda: \")\n",
        "print()\n",
        "if n==\"1\":\n",
        "    print(\"Lingkaran\")\n",
        "    r = float(input(\"Masukkan Jari-Jari: \"))\n",
        "    luas = luas_lingkaran(r)\n",
        "    print(\"Luas Lingkaran:\", luas)\n",
        "elif n==\"2\":\n",
        "    print(\"Persegi\")\n",
        "    s = float(input(\"Masukkan Sisi: \"))\n",
        "    luas = luas_persegi(s)\n",
        "    print(\"Luas Persegi:\", luas)\n",
        "elif n==\"3\":\n",
        "    print(\"Segitiga\")\n",
        "    a = float(input(\"Masukkan Alas: \"))\n",
        "    t = float(input(\"Masukkan Tinggi: \"))\n",
        "    luas = luas_segitiga(a, t)\n",
        "    print(\"Luas Segitiga:\", luas)\n",
        "elif n==\"4\":\n",
        "    print(\"Terima Kasih\")\n",
        "    exit()\n",
        "else:\n",
        "    print(\"Pilih Angka 1 Sampai 4\")"
      ]
    }
  ]
}