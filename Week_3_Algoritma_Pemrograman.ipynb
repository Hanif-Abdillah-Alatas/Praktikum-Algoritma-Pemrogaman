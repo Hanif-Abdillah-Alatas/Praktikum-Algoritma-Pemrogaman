{
  "nbformat": 4,
  "nbformat_minor": 0,
  "metadata": {
    "colab": {
      "provenance": [],
      "authorship_tag": "ABX9TyPJaOLBISfa4C5qvZoUzb1v",
      "include_colab_link": true
    },
    "kernelspec": {
      "name": "python3",
      "display_name": "Python 3"
    },
    "language_info": {
      "name": "python"
    }
  },
  "cells": [
    {
      "cell_type": "markdown",
      "metadata": {
        "id": "view-in-github",
        "colab_type": "text"
      },
      "source": [
        "<a href=\"https://colab.research.google.com/github/Hanif-Abdillah-Alatas/Praktikum-Algoritma-Pemrograman/blob/main/Week_3_Algoritma_Pemrograman.ipynb\" target=\"_parent\"><img src=\"https://colab.research.google.com/assets/colab-badge.svg\" alt=\"Open In Colab\"/></a>"
      ]
    },
    {
      "cell_type": "markdown",
      "source": [
        "**Weekly Exercise 1**"
      ],
      "metadata": {
        "id": "eRAPoTliLZAK"
      }
    },
    {
      "cell_type": "markdown",
      "source": [
        "1. Buatlah sebuah file .txt yang berisi biodata Anda meliputi : nama, program studi, NPM, alamat, hobi, dan email."
      ],
      "metadata": {
        "id": "A0iFrVpjN3Up"
      }
    },
    {
      "cell_type": "code",
      "execution_count": null,
      "metadata": {
        "id": "3A17AUHsHvEd"
      },
      "outputs": [],
      "source": [
        "#Membuat Direktori\n",
        "!mkdir -p /resources/data"
      ]
    },
    {
      "cell_type": "code",
      "source": [
        "#Membuat dan Menulis isi File\n",
        "with open('/resources/data/biodata.txt', 'w')as file:\n",
        "  file.write(\"Nama : Hanif Abdillah Alatas\\n\")\n",
        "  file.write(\"Program Studi : S1 Teknologi Informasi\\n\")\n",
        "  file.write(\"NPM : 2420506041\\n\")\n",
        "  file.write(\"Alamat : Ringinanom, Tempuran, Magelang\\n\")\n",
        "  file.write(\"Hobi : Bermain Genshin Impact\\n\")\n",
        "  file.write(\"Email : hanifabdillah2212@gmail.com\")\n",
        "\n",
        "#Menampilkan isi File\n",
        "with open('/resources/data/biodata.txt','r')as file:\n",
        "  print(file.read())"
      ],
      "metadata": {
        "colab": {
          "base_uri": "https://localhost:8080/"
        },
        "id": "Hulyot_8IBQ5",
        "outputId": "180934c7-04ef-4c8b-a750-b6576653e482"
      },
      "execution_count": null,
      "outputs": [
        {
          "output_type": "stream",
          "name": "stdout",
          "text": [
            "Nama : Hanif Abdillah Alatas\n",
            "Program Studi : S1 Teknologi Informasi\n",
            "NPM : 2420506041\n",
            "Alamat : Ringinanom, Tempuran, Magelang\n",
            "Hobi : Bermain Genshin Impact\n",
            "Email : hanifabdillah2212@gmail.com\n"
          ]
        }
      ]
    },
    {
      "cell_type": "markdown",
      "source": [
        "2. Buatlah script untuk menampilkan menampilkan nama, program studi, dan email."
      ],
      "metadata": {
        "id": "Z39EBgnKN9q5"
      }
    },
    {
      "cell_type": "markdown",
      "source": [
        "Cara 1"
      ],
      "metadata": {
        "id": "TZaDObPeOCpV"
      }
    },
    {
      "cell_type": "code",
      "source": [
        "#Menampilkan Nama, Program Studi, dan Email Cara 1\n",
        "with open('/resources/data/biodata.txt', 'r')as file:\n",
        "  for line in file:\n",
        "    if \"Nama\" in line:\n",
        "      print(line)\n",
        "    if \"Program Studi\" in line:\n",
        "      print(line)\n",
        "    if \"Email\" in line:\n",
        "      print(line)"
      ],
      "metadata": {
        "colab": {
          "base_uri": "https://localhost:8080/"
        },
        "id": "c5p0Tnm0L5OO",
        "outputId": "2a09c9f1-fb8c-45f6-a30f-0bcb261ba670"
      },
      "execution_count": null,
      "outputs": [
        {
          "output_type": "stream",
          "name": "stdout",
          "text": [
            "Nama : Hanif Abdillah Alatas\n",
            "\n",
            "Program Studi : S1 Teknologi Informasi\n",
            "\n",
            "Email : hanifabdillah2212@gmail.com\n"
          ]
        }
      ]
    },
    {
      "cell_type": "markdown",
      "source": [
        "Cara 2"
      ],
      "metadata": {
        "id": "1CRNO1C-ODqQ"
      }
    },
    {
      "cell_type": "code",
      "source": [
        "#Menampilkan Nama, Program Studi, dan Email Cara 2\n",
        "with open('/resources/data/biodata.txt', 'r')as file:\n",
        "  for line in file:\n",
        "    if \"Nama\" in line or \"Program Studi\" in line or \"Email\" in line:\n",
        "      print(line)"
      ],
      "metadata": {
        "colab": {
          "base_uri": "https://localhost:8080/"
        },
        "id": "BkRdtv6eNJ_F",
        "outputId": "3ec12afc-0a3f-4edc-e3d9-9ee14cf250c3"
      },
      "execution_count": null,
      "outputs": [
        {
          "output_type": "stream",
          "name": "stdout",
          "text": [
            "Nama : Hanif Abdillah Alatas\n",
            "\n",
            "Program Studi : S1 Teknologi Informasi\n",
            "\n",
            "Email : hanifabdillah2212@gmail.com\n"
          ]
        }
      ]
    },
    {
      "cell_type": "markdown",
      "source": [
        "3. Buatlah script untuk mengambil data nama, NPM, program studi dan alamat kemudian menyimpan dalam bentuk file txt yang baru."
      ],
      "metadata": {
        "id": "Hv0gLAuOOJv0"
      }
    },
    {
      "cell_type": "code",
      "source": [
        "#Mengambil Data dan Menyimpan Dalam File Baru\n",
        "with open('/resources/data/biodata.txt', 'r')as file1:\n",
        "  with open('/resources/data/biodata1.txt', 'w')as file2:\n",
        "    for line in file1:\n",
        "      if \"Nama\" in line or \"NPM\" in line or \"Program Studi\" in line or \"Alamat\" in line:\n",
        "        file2.write(line)\n",
        "\n",
        "#Menampilkan isi File Baru\n",
        "with open('/resources/data/biodata1.txt', 'r')as file:\n",
        "  print(file.read())"
      ],
      "metadata": {
        "colab": {
          "base_uri": "https://localhost:8080/"
        },
        "id": "7PHz6K64ORUH",
        "outputId": "4b203bcb-0ca2-478e-c567-bed2f4790cc9"
      },
      "execution_count": null,
      "outputs": [
        {
          "output_type": "stream",
          "name": "stdout",
          "text": [
            "Nama : Hanif Abdillah Alatas\n",
            "Program Studi : S1 Teknologi Informasi\n",
            "NPM : 2420506041\n",
            "Alamat : Ringinanom, Tempuran, Magelang\n",
            "\n"
          ]
        }
      ]
    },
    {
      "cell_type": "markdown",
      "source": [
        "**Weekly Exercise 2**"
      ],
      "metadata": {
        "id": "fRDRihGYSM4a"
      }
    },
    {
      "cell_type": "code",
      "source": [
        "print(\"Selamat datang di Toko Maju Jaya\")\n",
        "print(\"Senin, 4 September 2023       13.05\")\n",
        "print(\" \")\n",
        "\n",
        "print(\"DAFTAR BELANJA:\")\n",
        "item1 = \"Sabun\"\n",
        "item2 = \"Shampo\"\n",
        "item3 = \"Mie instant\"\n",
        "item4 = \"Detergen\"\n",
        "harga1 = 10000\n",
        "harga2 = 15000\n",
        "harga3 = 5000\n",
        "harga4 = 17500\n",
        "\n",
        "total = harga1+harga2+harga3+harga4\n",
        "\n",
        "print(item1,\"          = Rp \" + str(harga1))\n",
        "print(item2,\"         = Rp \" + str (harga2))\n",
        "print(item3,\"    = Rp \" + str(harga3))\n",
        "print(item4,\"       = Rp \" + str(harga4))\n",
        "\n",
        "print(\" \")\n",
        "print(\"Total = Rp \" + str(total))\n",
        "\n",
        "with open('Kuitansi.txt', 'w')as writefile:\n",
        "        writefile.write(\"Selamat Datang di Toko Maju Jaya\\n\")\n",
        "        writefile.write(\" \\n\")\n",
        "        writefile.write(\"Kuitansi - 4 Septermber 2023\\n\")\n",
        "        writefile.write(\" \\n\")\n",
        "        writefile.write(item1 + \" = Rp \" + str(harga1) + \"\\n\")\n",
        "        writefile.write(item2 + \" = Rp \" + str(harga2) + \"\\n\")\n",
        "        writefile.write(item3 + \" = Rp \" + str(harga3) + \"\\n\")\n",
        "        writefile.write(item4 + \" = Rp \" + str(harga4) + \"\\n\")\n",
        "        writefile.write(\" \\n\")\n",
        "        writefile.write(\"Total Belanja =\" + str(total))"
      ],
      "metadata": {
        "id": "Zpyk33M5SctT",
        "colab": {
          "base_uri": "https://localhost:8080/"
        },
        "outputId": "954d118f-370a-41be-e52f-f853313097ea"
      },
      "execution_count": 13,
      "outputs": [
        {
          "output_type": "stream",
          "name": "stdout",
          "text": [
            "Selamat datang di Toko Maju Jaya\n",
            "Senin, 4 September 2023       13.05\n",
            " \n",
            "DAFTAR BELANJA:\n",
            "Sabun           = Rp 10000\n",
            "Shampo          = Rp 15000\n",
            "Mie instant     = Rp 5000\n",
            "Detergen        = Rp 17500\n",
            " \n",
            "Total = Rp 47500\n"
          ]
        }
      ]
    }
  ]
}