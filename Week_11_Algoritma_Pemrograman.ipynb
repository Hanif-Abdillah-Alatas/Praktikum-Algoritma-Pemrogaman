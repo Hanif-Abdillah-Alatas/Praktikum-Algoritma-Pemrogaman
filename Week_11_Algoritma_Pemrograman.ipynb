{
  "nbformat": 4,
  "nbformat_minor": 0,
  "metadata": {
    "colab": {
      "provenance": [],
      "authorship_tag": "ABX9TyPKSDFuwo/pTi0Uhh5VO9Uy",
      "include_colab_link": true
    },
    "kernelspec": {
      "name": "python3",
      "display_name": "Python 3"
    },
    "language_info": {
      "name": "python"
    }
  },
  "cells": [
    {
      "cell_type": "markdown",
      "metadata": {
        "id": "view-in-github",
        "colab_type": "text"
      },
      "source": [
        "<a href=\"https://colab.research.google.com/github/Hanif-Abdillah-Alatas/Praktikum-Algoritma-Pemrograman/blob/main/Week_11_Algoritma_Pemrograman.ipynb\" target=\"_parent\"><img src=\"https://colab.research.google.com/assets/colab-badge.svg\" alt=\"Open In Colab\"/></a>"
      ]
    },
    {
      "cell_type": "markdown",
      "source": [
        "**Weekly Exercise 2**"
      ],
      "metadata": {
        "id": "1pifJ7zVl8yd"
      }
    },
    {
      "cell_type": "code",
      "execution_count": 21,
      "metadata": {
        "colab": {
          "base_uri": "https://localhost:8080/"
        },
        "id": "wXUuaZPUfLY9",
        "outputId": "ab200a0b-c650-4a5d-e007-44682ef46032"
      },
      "outputs": [
        {
          "output_type": "stream",
          "name": "stdout",
          "text": [
            "Mencari Angka Kuadrat\n",
            "Masukkan Angka: 25\n",
            "Kuadrat: 5.0\n",
            "\n",
            "Mencari Faktorial\n",
            "Masukkan Angka: 5\n",
            "Faktorial: 120\n",
            "\n",
            "Mencari Norma Euclidean\n",
            "Masukkan Angka X: 3\n",
            "Masukkan Angka Y: 4\n",
            "Norma Euclidean: 5.0\n",
            "\n",
            "Mencari Eksponen\n",
            "Masukkan Angka: 5\n",
            "Eksponen: 148.4131591025766\n",
            "\n",
            "Mencari Fungsi Gamma\n",
            "Masukkan Angka: 5\n",
            "Fungsi Gamma: 24.0\n"
          ]
        }
      ],
      "source": [
        "import math\n",
        "\n",
        "def kuadrat(n):\n",
        "    kuadrat = math.sqrt(n)\n",
        "    return kuadrat\n",
        "def faktorial(n):\n",
        "    faktorial = math.factorial(n)\n",
        "    return faktorial\n",
        "def euclid(x, y):\n",
        "    euclid = math.hypot(x, y)\n",
        "    return euclid\n",
        "def eksponen(n):\n",
        "    eksponen = math.exp(n)\n",
        "    return eksponen\n",
        "def gamma(n):\n",
        "    gamma = math.gamma(n)\n",
        "    return gamma\n",
        "\n",
        "print(\"Mencari Angka Kuadrat\")\n",
        "n = float(input(\"Masukkan Angka: \"))\n",
        "kuadrat = kuadrat(n)\n",
        "print(\"Kuadrat:\", kuadrat)\n",
        "print()\n",
        "\n",
        "print(\"Mencari Faktorial\")\n",
        "n = int(input(\"Masukkan Angka: \"))\n",
        "faktorial = faktorial(n)\n",
        "print(\"Faktorial:\", faktorial)\n",
        "print()\n",
        "\n",
        "print(\"Mencari Norma Euclidean\")\n",
        "x = float(input(\"Masukkan Angka X: \"))\n",
        "y = float(input(\"Masukkan Angka Y: \"))\n",
        "euclid = euclid(x, y)\n",
        "print(\"Norma Euclidean:\", euclid)\n",
        "print()\n",
        "\n",
        "print(\"Mencari Eksponen\")\n",
        "n = float(input(\"Masukkan Angka: \"))\n",
        "eksponen = eksponen(n)\n",
        "print(\"Eksponen:\", eksponen)\n",
        "print()\n",
        "\n",
        "print(\"Mencari Fungsi Gamma\")\n",
        "n = float(input(\"Masukkan Angka: \"))\n",
        "gamma = gamma(n)\n",
        "print(\"Fungsi Gamma:\", gamma)"
      ]
    }
  ]
}