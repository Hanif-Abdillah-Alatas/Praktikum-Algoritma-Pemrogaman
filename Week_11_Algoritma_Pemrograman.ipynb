{
  "nbformat": 4,
  "nbformat_minor": 0,
  "metadata": {
    "colab": {
      "provenance": [],
      "authorship_tag": "ABX9TyMK+rlXRHm0cIIu7bnFjZWa",
      "include_colab_link": true
    },
    "kernelspec": {
      "name": "python3",
      "display_name": "Python 3"
    },
    "language_info": {
      "name": "python"
    }
  },
  "cells": [
    {
      "cell_type": "markdown",
      "metadata": {
        "id": "view-in-github",
        "colab_type": "text"
      },
      "source": [
        "<a href=\"https://colab.research.google.com/github/Hanif-Abdillah-Alatas/Praktikum-Algoritma-Pemrograman/blob/main/Week_11_Algoritma_Pemrograman.ipynb\" target=\"_parent\"><img src=\"https://colab.research.google.com/assets/colab-badge.svg\" alt=\"Open In Colab\"/></a>"
      ]
    },
    {
      "cell_type": "markdown",
      "source": [
        "**Weekly Exercise 2**"
      ],
      "metadata": {
        "id": "1pifJ7zVl8yd"
      }
    },
    {
      "cell_type": "code",
      "execution_count": 5,
      "metadata": {
        "colab": {
          "base_uri": "https://localhost:8080/"
        },
        "id": "wXUuaZPUfLY9",
        "outputId": "3fd6b2ee-e6a0-4efd-dca6-5ed06cf32c6e"
      },
      "outputs": [
        {
          "output_type": "stream",
          "name": "stdout",
          "text": [
            "Mencari Akar Kuadrat\n",
            "Masukkan Angka: 25\n",
            "Akar Kuadrat Dari 25.0 Adalah 5.0\n",
            "\n",
            "Mencari Faktorial\n",
            "Masukkan Angka: 5\n",
            "Faktorial Dari 5 Adalah 120\n",
            "\n",
            "Mencari Sin\n",
            "Masukkan Angka: 10\n",
            "Sin 10.0 Adalah -0.5440211108893698\n",
            "\n",
            "Mencari Cos\n",
            "Masukkan Angka: 10\n",
            "Cos 10.0 Adalah -0.8390715290764524\n",
            "\n",
            "Mencari Tan\n",
            "Masukkan Angka: 10\n",
            "Tan 10.0 Adalah 0.6483608274590866\n"
          ]
        }
      ],
      "source": [
        "import math\n",
        "\n",
        "def kuadrat(n):\n",
        "    kuadrat = math.sqrt(n)\n",
        "    return kuadrat\n",
        "def faktorial(n):\n",
        "    faktorial = math.factorial(n)\n",
        "    return faktorial\n",
        "def sin(n):\n",
        "    sin = math.sin(n)\n",
        "    return sin\n",
        "def cos(n):\n",
        "    cos = math.cos(n)\n",
        "    return cos\n",
        "def tan(n):\n",
        "    tan = math.tan(n)\n",
        "    return tan\n",
        "\n",
        "print(\"Mencari Akar Kuadrat\")\n",
        "n = float(input(\"Masukkan Angka: \"))\n",
        "kuadrat = kuadrat(n)\n",
        "print(f\"Akar Kuadrat Dari {n} Adalah\", kuadrat)\n",
        "print()\n",
        "\n",
        "print(\"Mencari Faktorial\")\n",
        "n = int(input(\"Masukkan Angka: \"))\n",
        "faktorial = faktorial(n)\n",
        "print(f\"Faktorial Dari {n} Adalah\", faktorial)\n",
        "print()\n",
        "\n",
        "print(\"Mencari Sin\")\n",
        "n = float(input(\"Masukkan Angka: \"))\n",
        "sin = sin(n)\n",
        "print(f\"Sin {n} Adalah\", sin)\n",
        "print()\n",
        "\n",
        "print(\"Mencari Cos\")\n",
        "n = float(input(\"Masukkan Angka: \"))\n",
        "cos = cos(n)\n",
        "print(f\"Cos {n} Adalah\", cos)\n",
        "print()\n",
        "\n",
        "print(\"Mencari Tan\")\n",
        "n = float(input(\"Masukkan Angka: \"))\n",
        "tan = tan(n)\n",
        "print(f\"Tan {n} Adalah\", tan)"
      ]
    }
  ]
}