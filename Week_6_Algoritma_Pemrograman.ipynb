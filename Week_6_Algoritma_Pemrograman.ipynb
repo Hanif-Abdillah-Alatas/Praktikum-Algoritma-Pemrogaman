{
  "nbformat": 4,
  "nbformat_minor": 0,
  "metadata": {
    "colab": {
      "provenance": [],
      "authorship_tag": "ABX9TyOZ454g0Mp3EkyMigmYfO0B",
      "include_colab_link": true
    },
    "kernelspec": {
      "name": "python3",
      "display_name": "Python 3"
    },
    "language_info": {
      "name": "python"
    }
  },
  "cells": [
    {
      "cell_type": "markdown",
      "metadata": {
        "id": "view-in-github",
        "colab_type": "text"
      },
      "source": [
        "<a href=\"https://colab.research.google.com/github/Hanif-Abdillah-Alatas/Praktikum-Algoritma-Pemrograman/blob/main/Week_6_Algoritma_Pemrograman.ipynb\" target=\"_parent\"><img src=\"https://colab.research.google.com/assets/colab-badge.svg\" alt=\"Open In Colab\"/></a>"
      ]
    },
    {
      "cell_type": "markdown",
      "source": [
        "**Weekly Exercise 1**"
      ],
      "metadata": {
        "id": "ZbZJOCOL6UXt"
      }
    },
    {
      "cell_type": "code",
      "source": [
        "n = int(input(\"Jumlah Baris = \"))\n",
        "for i in range(1, n+1):\n",
        "  for j in range(n-i):\n",
        "    print(\" \", end=\"\")\n",
        "  for j in range(i):\n",
        "    print(\"* \", end=\"\")\n",
        "  print()"
      ],
      "metadata": {
        "colab": {
          "base_uri": "https://localhost:8080/"
        },
        "id": "dgbEizaS3lEP",
        "outputId": "e4c6a3aa-0dfd-45c4-f668-4a7a0c77afdd"
      },
      "execution_count": null,
      "outputs": [
        {
          "output_type": "stream",
          "name": "stdout",
          "text": [
            "Jumlah Baris = 5\n",
            "    * \n",
            "   * * \n",
            "  * * * \n",
            " * * * * \n",
            "* * * * * \n"
          ]
        }
      ]
    },
    {
      "cell_type": "markdown",
      "source": [
        "**Weekly Exercise 2**"
      ],
      "metadata": {
        "id": "HG4nkLCC0F3W"
      }
    },
    {
      "cell_type": "code",
      "execution_count": null,
      "metadata": {
        "colab": {
          "base_uri": "https://localhost:8080/"
        },
        "id": "4hxaMIh3y0ON",
        "outputId": "985d1db0-b85a-4a31-e917-a377479466c8"
      },
      "outputs": [
        {
          "output_type": "stream",
          "name": "stdout",
          "text": [
            "Jumlah Baris = 5\n",
            "     1\n",
            "    1 1\n",
            "   1 2 1\n",
            "  1 3 3 1\n",
            " 1 4 6 4 1\n"
          ]
        }
      ],
      "source": [
        "n = int(input(\"Jumlah Baris = \"))\n",
        "for i in range(1, n+1):\n",
        "  for j in range(0, n-i):\n",
        "    print(\" \", end=\"\")\n",
        "  k = 1\n",
        "  for j in range(1, i+1):\n",
        "    print(\" \", k, sep=\"\", end=\"\")\n",
        "    k = k*(i - j)//j\n",
        "  print()"
      ]
    },
    {
      "cell_type": "markdown",
      "source": [
        "**Weekly Exercise 3**"
      ],
      "metadata": {
        "id": "rA_kek2o8bPV"
      }
    },
    {
      "cell_type": "code",
      "source": [
        "n = int(input(\"Baris = \"))\n",
        "pascal = []\n",
        "for i in range(n):\n",
        "  baris = []\n",
        "  for j in range(i+1):\n",
        "    if j==0 or j==i:\n",
        "      baris.append(1)\n",
        "    else:\n",
        "      baris.append(pascal [i-1][j-1]+pascal[i-1][j])\n",
        "  pascal.append(baris)\n",
        "if n > 0:\n",
        "  angka_terakhir = pascal [n-1]\n",
        "  print(\"Angka =\", end=\" \")\n",
        "  for angka in angka_terakhir:\n",
        "    print(angka, end=\" \")\n",
        "  print()\n",
        "  jumlah = 0\n",
        "  for angka in angka_terakhir:\n",
        "    jumlah += angka\n",
        "  print(\"Jumlah =\", jumlah)\n",
        "else:\n",
        "  print(\"Baris Invalid\")"
      ],
      "metadata": {
        "colab": {
          "base_uri": "https://localhost:8080/"
        },
        "id": "HDSsQ_xiCeZC",
        "outputId": "a8a283f9-41f4-4b67-acb3-3c3ad75d8bec"
      },
      "execution_count": 13,
      "outputs": [
        {
          "output_type": "stream",
          "name": "stdout",
          "text": [
            "Baris = 5\n",
            "Angka = 1 4 6 4 1 \n",
            "Jumlah = 16\n"
          ]
        }
      ]
    }
  ]
}