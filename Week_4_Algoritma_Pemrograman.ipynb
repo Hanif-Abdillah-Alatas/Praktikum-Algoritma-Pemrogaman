{
  "nbformat": 4,
  "nbformat_minor": 0,
  "metadata": {
    "colab": {
      "provenance": [],
      "authorship_tag": "ABX9TyN9NZHegxieJuI0coDP/Z+j",
      "include_colab_link": true
    },
    "kernelspec": {
      "name": "python3",
      "display_name": "Python 3"
    },
    "language_info": {
      "name": "python"
    }
  },
  "cells": [
    {
      "cell_type": "markdown",
      "metadata": {
        "id": "view-in-github",
        "colab_type": "text"
      },
      "source": [
        "<a href=\"https://colab.research.google.com/github/Hanif-Abdillah-Alatas/Praktikum-Algoritma-Pemrograman/blob/main/Week_4_Algoritma_Pemrograman.ipynb\" target=\"_parent\"><img src=\"https://colab.research.google.com/assets/colab-badge.svg\" alt=\"Open In Colab\"/></a>"
      ]
    },
    {
      "cell_type": "markdown",
      "source": [
        "**Weekly Exercise 1**"
      ],
      "metadata": {
        "id": "SJ7-iOAntJRe"
      }
    },
    {
      "cell_type": "code",
      "execution_count": null,
      "metadata": {
        "colab": {
          "base_uri": "https://localhost:8080/"
        },
        "id": "sAvKk0UvunF5",
        "outputId": "8b3ae77f-9ec2-4d7c-d58d-da5b1ba32f15"
      },
      "outputs": [
        {
          "output_type": "stream",
          "name": "stdout",
          "text": [
            "Masukkan Umur = 18\n",
            "Boleh Membuat SIM\n"
          ]
        }
      ],
      "source": [
        "umur = input(\"Masukkan Umur = \")\n",
        "if umur>=str(17):\n",
        "  print(\"Boleh Membuat SIM\")\n",
        "else:\n",
        "  print(\"Tidak Boleh Membuat SIM\")"
      ]
    },
    {
      "cell_type": "markdown",
      "source": [
        "**Weekly Exercise 2**"
      ],
      "metadata": {
        "id": "hy-zOA3htNl_"
      }
    },
    {
      "cell_type": "code",
      "source": [
        "nilai = input(\"Masukkan Nilai = \")\n",
        "if nilai>=str(90):\n",
        "  print(\"Grade A\")\n",
        "elif nilai>=str(80):\n",
        "  print(\"Grade B+\")\n",
        "elif nilai>=str(70):\n",
        "  print(\"Grade B\")\n",
        "elif nilai>=str(60):\n",
        "  print(\"Grade C+\")\n",
        "elif nilai>=str(50):\n",
        "  print(\"Grade C\")\n",
        "elif nilai>=str(40):\n",
        "  print(\"Grade D\")\n",
        "else:\n",
        "  print(\"Grade E\")"
      ],
      "metadata": {
        "colab": {
          "base_uri": "https://localhost:8080/"
        },
        "id": "yez36SdLviQh",
        "outputId": "d720cfef-eb17-4d8d-8043-2300f36df45d"
      },
      "execution_count": null,
      "outputs": [
        {
          "output_type": "stream",
          "name": "stdout",
          "text": [
            "Masukkan Nilai = 84,5\n",
            "Grade B+\n"
          ]
        }
      ]
    },
    {
      "cell_type": "markdown",
      "source": [
        "**Weekly Exercise 3**"
      ],
      "metadata": {
        "id": "wTLia8hFtRGt"
      }
    },
    {
      "cell_type": "code",
      "source": [
        "nilai = float(input(\"Masukkan Nilai = \"))\n",
        "if 80.00<=nilai<=100:\n",
        "  print(\"Grade A\")\n",
        "elif 77.50<=nilai:\n",
        "  print(\"Grade A-\")\n",
        "elif 75.00<=nilai:\n",
        "  print(\"Grade A/B\")\n",
        "elif 72.50<=nilai:\n",
        "  print(\"Grade B+\")\n",
        "elif 70.00<=nilai:\n",
        "  print(\"Grade B\")\n",
        "elif 67.50<=nilai:\n",
        "  print(\"Grade B-\")\n",
        "elif 65.00<=nilai:\n",
        "  print(\"Grade B/C\")\n",
        "elif 62.50<=nilai:\n",
        "  print(\"Grade C+\")\n",
        "elif 60.00<=nilai:\n",
        "  print(\"Grade C\")\n",
        "elif 55.00<=nilai:\n",
        "  print(\"Grade C-\")\n",
        "elif 50.00<=nilai:\n",
        "  print(\"Grade C/D\")\n",
        "elif 45.00<=nilai:\n",
        "  print(\"Grade D+\")\n",
        "elif 40.00<=nilai:\n",
        "  print(\"Grade D\")\n",
        "else:\n",
        "  print(\"Grade E\")"
      ],
      "metadata": {
        "id": "aeXM0UxptXYA",
        "colab": {
          "base_uri": "https://localhost:8080/"
        },
        "outputId": "9ce0acae-ff9a-41bc-e6d6-c6b7f94bb0d1"
      },
      "execution_count": null,
      "outputs": [
        {
          "output_type": "stream",
          "name": "stdout",
          "text": [
            "Masukkan Nilai = 74.99\n",
            "Grade B+\n"
          ]
        }
      ]
    }
  ]
}