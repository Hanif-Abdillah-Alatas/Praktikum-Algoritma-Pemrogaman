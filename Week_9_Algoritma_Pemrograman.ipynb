{
  "nbformat": 4,
  "nbformat_minor": 0,
  "metadata": {
    "colab": {
      "provenance": [],
      "authorship_tag": "ABX9TyMwiLFduM4/qISnzwR6p8jA",
      "include_colab_link": true
    },
    "kernelspec": {
      "name": "python3",
      "display_name": "Python 3"
    },
    "language_info": {
      "name": "python"
    }
  },
  "cells": [
    {
      "cell_type": "markdown",
      "metadata": {
        "id": "view-in-github",
        "colab_type": "text"
      },
      "source": [
        "<a href=\"https://colab.research.google.com/github/Hanif-Abdillah-Alatas/Praktikum-Algoritma-Pemrograman/blob/main/Week_9_Algoritma_Pemrograman.ipynb\" target=\"_parent\"><img src=\"https://colab.research.google.com/assets/colab-badge.svg\" alt=\"Open In Colab\"/></a>"
      ]
    },
    {
      "cell_type": "markdown",
      "source": [
        "**Weekly Exercise 1**"
      ],
      "metadata": {
        "id": "G_U4gycMVcoC"
      }
    },
    {
      "cell_type": "markdown",
      "source": [
        "Jawaban ada di Medium"
      ],
      "metadata": {
        "id": "h6sMg2El0nn4"
      }
    },
    {
      "cell_type": "markdown",
      "source": [
        "**Weekly Exercise 2**"
      ],
      "metadata": {
        "id": "MLAw1IlWVtdB"
      }
    },
    {
      "cell_type": "code",
      "source": [
        "mahasiswa = {\n",
        "    \"Nama\": \"Hanif Abdillah Alatas\",\n",
        "    \"Kelas\": \"Teknologi Informasi 2024 Rombel 3\",\n",
        "    \"Tanggal Lahir\": \"6 Desember 2006\",\n",
        "    \"Nomer HP\": \"088709749940\",\n",
        "    \"Alamat\": \"Kalipinggan, Ringinanom, Tempuran, Magelang\",\n",
        "    \"Hobi\": [\"Bermain Genshin Impact\", \"Menonton Donghua\", \"Menemukan Hal Baru\"]\n",
        "}\n",
        "\n",
        "for key, value in mahasiswa.items():\n",
        "    if key==\"Hobi\":\n",
        "        print(f\"{key}\")\n",
        "        index = 1\n",
        "        for hobi in value:\n",
        "            print(f\"  {index}. {hobi}\")\n",
        "            index+=1\n",
        "        print()\n",
        "    else:\n",
        "        print(f\"{key}: {value}\")"
      ],
      "metadata": {
        "colab": {
          "base_uri": "https://localhost:8080/"
        },
        "id": "fhg9oB-CVw76",
        "outputId": "2db08a20-e14e-4a2a-dbab-68d0a8f95fdc"
      },
      "execution_count": 12,
      "outputs": [
        {
          "output_type": "stream",
          "name": "stdout",
          "text": [
            "Nama: Hanif Abdillah Alatas\n",
            "Kelas: Teknologi Informasi 2024 Rombel 3\n",
            "Tanggal Lahir: 6 Desember 2006\n",
            "Nomer HP: 088709749940\n",
            "Alamat: Kalipinggan, Ringinanom, Tempuran, Magelang\n",
            "Hobi\n",
            "  1. Bermain Genshin Impact\n",
            "  2. Menonton Donghua\n",
            "  3. Menemukan Hal Baru\n",
            "\n"
          ]
        }
      ]
    }
  ]
}