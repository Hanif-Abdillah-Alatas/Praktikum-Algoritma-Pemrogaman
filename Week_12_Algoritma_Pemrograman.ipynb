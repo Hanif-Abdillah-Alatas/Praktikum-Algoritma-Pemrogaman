{
  "nbformat": 4,
  "nbformat_minor": 0,
  "metadata": {
    "colab": {
      "provenance": [],
      "authorship_tag": "ABX9TyMxJaZAp+UBZb7ziNnHv8ZH",
      "include_colab_link": true
    },
    "kernelspec": {
      "name": "python3",
      "display_name": "Python 3"
    },
    "language_info": {
      "name": "python"
    }
  },
  "cells": [
    {
      "cell_type": "markdown",
      "metadata": {
        "id": "view-in-github",
        "colab_type": "text"
      },
      "source": [
        "<a href=\"https://colab.research.google.com/github/Hanif-Abdillah-Alatas/Praktikum-Algoritma-Pemrograman/blob/main/Week_12_Algoritma_Pemrograman.ipynb\" target=\"_parent\"><img src=\"https://colab.research.google.com/assets/colab-badge.svg\" alt=\"Open In Colab\"/></a>"
      ]
    },
    {
      "cell_type": "markdown",
      "source": [
        "**Weekly Exercise 1**"
      ],
      "metadata": {
        "id": "1dhvfynTTUHG"
      }
    },
    {
      "cell_type": "markdown",
      "source": [
        "Ada dalam file zip"
      ],
      "metadata": {
        "id": "wBbacRpATXcF"
      }
    },
    {
      "cell_type": "markdown",
      "source": [
        "**Weekly Exercise 2**"
      ],
      "metadata": {
        "id": "GmcY5OQAzYYs"
      }
    },
    {
      "cell_type": "markdown",
      "source": [
        "Soal 1"
      ],
      "metadata": {
        "id": "XcndK4x81XBb"
      }
    },
    {
      "cell_type": "code",
      "execution_count": 1,
      "metadata": {
        "colab": {
          "base_uri": "https://localhost:8080/"
        },
        "id": "9stxuAUrzPR2",
        "outputId": "e571505d-baf8-4093-ae57-81859d93823b"
      },
      "outputs": [
        {
          "output_type": "stream",
          "name": "stdout",
          "text": [
            "Masukkan NPM Anda: \n",
            "Tidak Boleh Kosong\n",
            "Masukkan NPM Anda: I Love Clorinde\n",
            "Hanya Boleh Memasukkan Angka\n",
            "Masukkan NPM Anda: 2420506041\n",
            "Jumlah Bilangan Genap: 8\n",
            "Jumlah Bilangan Ganjil: 2\n"
          ]
        }
      ],
      "source": [
        "while True:\n",
        "    npm = input(\"Masukkan NPM Anda: \")\n",
        "    if not npm:\n",
        "        print(\"Tidak Boleh Kosong\")\n",
        "    else:\n",
        "        try:\n",
        "            int(npm)\n",
        "        except ValueError:\n",
        "            print(\"Hanya Boleh Memasukkan Angka\")\n",
        "        else:\n",
        "            genap = 0\n",
        "            ganjil = 0\n",
        "            for angka in npm:\n",
        "                angka = int(angka)\n",
        "                if angka%2==0:\n",
        "                    genap+=1\n",
        "                else:\n",
        "                    ganjil+=1\n",
        "            print(\"Jumlah Bilangan Genap:\", genap)\n",
        "            print(\"Jumlah Bilangan Ganjil:\", ganjil)\n",
        "            break"
      ]
    },
    {
      "cell_type": "markdown",
      "source": [
        "Soal 2"
      ],
      "metadata": {
        "id": "7AfL08Tc11Mr"
      }
    },
    {
      "cell_type": "code",
      "source": [
        "while True:\n",
        "    n = input(\"Jumlah Baris: \")\n",
        "    if not n:\n",
        "        print(\"Tidak Boleh Kosong\")\n",
        "    else:\n",
        "        try:\n",
        "            n = int(n)\n",
        "        except ValueError:\n",
        "            print(\"Hanya Boleh Memasukkan Angka\")\n",
        "        else:\n",
        "            if n<1:\n",
        "                print(\"Masukkan Angka Positif\")\n",
        "            else:\n",
        "                break\n",
        "\n",
        "for i in range(1, n+1):\n",
        "  for j in range(1, i+1):\n",
        "    print(i*j, end=\" \")\n",
        "  print()"
      ],
      "metadata": {
        "colab": {
          "base_uri": "https://localhost:8080/"
        },
        "id": "UnpCqCT912Qi",
        "outputId": "d840219e-1918-46e0-a8a0-5859837918e8"
      },
      "execution_count": 15,
      "outputs": [
        {
          "output_type": "stream",
          "name": "stdout",
          "text": [
            "Jumlah Baris: \n",
            "Tidak Boleh Kosong\n",
            "Jumlah Baris: I Love Clorinde\n",
            "Hanya Boleh Memasukkan Angka\n",
            "Jumlah Baris: -1\n",
            "Masukkan Angka Positif\n",
            "Jumlah Baris: 10\n",
            "1 \n",
            "2 4 \n",
            "3 6 9 \n",
            "4 8 12 16 \n",
            "5 10 15 20 25 \n",
            "6 12 18 24 30 36 \n",
            "7 14 21 28 35 42 49 \n",
            "8 16 24 32 40 48 56 64 \n",
            "9 18 27 36 45 54 63 72 81 \n",
            "10 20 30 40 50 60 70 80 90 100 \n"
          ]
        }
      ]
    }
  ]
}