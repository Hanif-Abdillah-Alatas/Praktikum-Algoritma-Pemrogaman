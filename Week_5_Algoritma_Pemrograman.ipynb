{
  "nbformat": 4,
  "nbformat_minor": 0,
  "metadata": {
    "colab": {
      "provenance": [],
      "authorship_tag": "ABX9TyMdyTjam6s8lnr0/X+ODiP5",
      "include_colab_link": true
    },
    "kernelspec": {
      "name": "python3",
      "display_name": "Python 3"
    },
    "language_info": {
      "name": "python"
    }
  },
  "cells": [
    {
      "cell_type": "markdown",
      "metadata": {
        "id": "view-in-github",
        "colab_type": "text"
      },
      "source": [
        "<a href=\"https://colab.research.google.com/github/Hanif-Abdillah-Alatas/Praktikum-Algoritma-Pemrograman/blob/main/Week_5_Algoritma_Pemrograman.ipynb\" target=\"_parent\"><img src=\"https://colab.research.google.com/assets/colab-badge.svg\" alt=\"Open In Colab\"/></a>"
      ]
    },
    {
      "cell_type": "markdown",
      "source": [
        "**Weekly Exercise 1**"
      ],
      "metadata": {
        "id": "2RPaQFa84Oj1"
      }
    },
    {
      "cell_type": "code",
      "execution_count": null,
      "metadata": {
        "colab": {
          "base_uri": "https://localhost:8080/"
        },
        "id": "wmiPcilb2Lw5",
        "outputId": "966ee4e6-1d32-4fef-ee7b-45334675e46a"
      },
      "outputs": [
        {
          "output_type": "stream",
          "name": "stdout",
          "text": [
            "Masukkan Tahun = 1800\n",
            "Bukan Tahun Kabisat\n"
          ]
        }
      ],
      "source": [
        "tahun = int(input(\"Masukkan Tahun = \"))\n",
        "if tahun%400==0:\n",
        "  print(\"Tahun Kabisat\")\n",
        "elif tahun%4==0 and tahun%100!=0:\n",
        "  print(\"Tahun Kabisat\")\n",
        "else:\n",
        "  print(\"Bukan Tahun Kabisat\")"
      ]
    },
    {
      "cell_type": "markdown",
      "source": [
        "**Weekly Exercise 2**"
      ],
      "metadata": {
        "id": "AVSIdGMj6LDM"
      }
    },
    {
      "cell_type": "code",
      "source": [
        "angka1 = int(input(\"Masukkan Angka Pertama = \"))\n",
        "angka2 = int(input(\"Masukkan Angka Kedua = \"))\n",
        "angka3 = int(input(\"Masukkan Angka Ketiga = \"))\n",
        "if angka1>angka2 and angka1>angka3:\n",
        "  print(\"Angka Pertama Adalah Yang Terbesar\")\n",
        "elif angka2>angka1 and angka2>angka3:\n",
        "  print(\"Angka Kedua Adalah Yang Terbesar\")\n",
        "else:\n",
        "  print(\"Angka Ketiga Adalah Yang Terbesar\")"
      ],
      "metadata": {
        "colab": {
          "base_uri": "https://localhost:8080/"
        },
        "id": "nJQO4rRy4SjM",
        "outputId": "2a9446c4-22bf-4f0a-c9c4-c1b7f3555e8a"
      },
      "execution_count": null,
      "outputs": [
        {
          "output_type": "stream",
          "name": "stdout",
          "text": [
            "Masukkan Angka Pertama = 34\n",
            "Masukkan Angka Kedua = 43\n",
            "Masukkan Angka Ketiga = 23\n",
            "Angka Kedua Adalah Yang Terbesar\n"
          ]
        }
      ]
    },
    {
      "cell_type": "markdown",
      "source": [
        "**Weekly Exercise 3**"
      ],
      "metadata": {
        "id": "hpPgc25b7Tfb"
      }
    },
    {
      "cell_type": "code",
      "source": [
        "member = input(\"Member Atau Tidak? (Ya/Tidak) = \")\n",
        "total = int(input(\"Masukkan Total Belanja = \"))\n",
        "if member==\"tidak\" or member==\"Tidak\":\n",
        "  if total>100000:\n",
        "    print(\"Jumlah Yang Dibayar = Rp\", total-(total*3/100))\n",
        "  elif total>200000:\n",
        "    print(\"Jumlah Yang Dibayar = Rp\", total-(total*4/100))\n",
        "  else:\n",
        "    print(\"Jumlah Yang Dibayar = Rp\", total)\n",
        "else:\n",
        "  if total>100000:\n",
        "    print(\"Jumlah Yang Dibayar = Rp\", total-(total*5/100))\n",
        "  elif total>200000:\n",
        "    print(\"Jumlah Yang Dibayar = Rp\", total-(total*6/100))\n",
        "  else:\n",
        "    print(\"Jumlah Yang Dibayar = Rp\", total)"
      ],
      "metadata": {
        "colab": {
          "base_uri": "https://localhost:8080/"
        },
        "id": "Kaq2xlPO7WWK",
        "outputId": "f0dfc07e-01a2-4d6f-dbc9-cb6bce7dd040"
      },
      "execution_count": null,
      "outputs": [
        {
          "output_type": "stream",
          "name": "stdout",
          "text": [
            "Member Atau Tidak? (Ya/Tidak) = tidak\n",
            "Masukkan Total Belanja = 243500\n",
            "Jumlah Yang Dibayar = Rp 236195.0\n"
          ]
        }
      ]
    },
    {
      "cell_type": "markdown",
      "source": [
        "**Weekly Exercise 4**"
      ],
      "metadata": {
        "id": "1nCOX_zv-ff6"
      }
    },
    {
      "cell_type": "code",
      "source": [
        "print(\"Membuat User Baru\")\n",
        "user = input(\"Masukkan Username = \")\n",
        "email = input(\"Masukkan Email = \")\n",
        "password = input(\"Masukkan Password = \")\n",
        "if not user:\n",
        "  print(\"Username Tidak Boleh Kosong\")\n",
        "elif \"@\" not in email:\n",
        "  print(\"Email Tidak Valid\")\n",
        "elif len(password)<8:\n",
        "  print(\"Password Minimal 8 Karakter\")\n",
        "else:\n",
        "  print(\"Selamat! User Berhasil Dibuat\")"
      ],
      "metadata": {
        "colab": {
          "base_uri": "https://localhost:8080/"
        },
        "id": "AZA2QQNF-iNR",
        "outputId": "fcb59a79-6194-4da2-cbac-b6df78fc9b70"
      },
      "execution_count": null,
      "outputs": [
        {
          "output_type": "stream",
          "name": "stdout",
          "text": [
            "Membuat User Baru\n",
            "Masukkan Username = Hanif\n",
            "Masukkan Email = hanif123@untidar\n",
            "Masukkan Password = clorindewaifuku\n",
            "Selamat! User Berhasil Dibuat\n"
          ]
        }
      ]
    }
  ]
}