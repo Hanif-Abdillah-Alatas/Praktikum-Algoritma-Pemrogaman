{
  "nbformat": 4,
  "nbformat_minor": 0,
  "metadata": {
    "colab": {
      "provenance": []
    },
    "kernelspec": {
      "name": "python3",
      "display_name": "Python 3"
    },
    "language_info": {
      "name": "python"
    }
  },
  "cells": [
    {
      "cell_type": "markdown",
      "source": [
        "**Weekly Exercise 1**"
      ],
      "metadata": {
        "id": "yZAXVxNdxSsB"
      }
    },
    {
      "cell_type": "markdown",
      "source": [
        "Cara 1"
      ],
      "metadata": {
        "id": "KjVNL3edxoFj"
      }
    },
    {
      "cell_type": "code",
      "execution_count": null,
      "metadata": {
        "colab": {
          "base_uri": "https://localhost:8080/"
        },
        "id": "ntL89OPovx5J",
        "outputId": "b38bc203-c62d-4f03-a57a-c63213450070"
      },
      "outputs": [
        {
          "output_type": "stream",
          "name": "stdout",
          "text": [
            "Nama         : Hanif Abdillah Alatas\n",
            "\n",
            "NPM          : 2420506041\n",
            "\n",
            "Alamat       : Kalipinggan RT3/RW14, Ringinanom, Tempuran, Magelang\n",
            "\n",
            "Tinggi Badan : 168 cm\n",
            "\n",
            "Berat Badan  : 78 kg\n"
          ]
        }
      ],
      "source": [
        "print(\"Nama         : Hanif Abdillah Alatas\")\n",
        "print()\n",
        "print(\"NPM          : 2420506041\")\n",
        "print()\n",
        "print(\"Alamat       : Kalipinggan RT3/RW14, Ringinanom, Tempuran, Magelang\")\n",
        "print()\n",
        "print(\"Tinggi Badan : 168 cm\")\n",
        "print()\n",
        "print(\"Berat Badan  : 78 kg\")"
      ]
    },
    {
      "cell_type": "markdown",
      "source": [
        "Cara 2"
      ],
      "metadata": {
        "id": "BYObe2qCxsLc"
      }
    },
    {
      "cell_type": "code",
      "source": [
        "print('''Nama          : Hanif Abdillah Alatas\\n\n",
        "NPM           : 2420506041\\n\n",
        "Alamat        : Kalipinggan RT3/RW14, Ringinanom, Tempuran, Magelang\\n\n",
        "Tinggi Badan  : 168 cm\\n\n",
        "Berat Badan   : 78 kg''')"
      ],
      "metadata": {
        "colab": {
          "base_uri": "https://localhost:8080/"
        },
        "id": "rMsRX8GNxmqc",
        "outputId": "301699b9-8b21-41d3-cd69-ba89fe8213fb"
      },
      "execution_count": null,
      "outputs": [
        {
          "output_type": "stream",
          "name": "stdout",
          "text": [
            "Nama          : Hanif Abdillah Alatas\n",
            "\n",
            "NPM           : 2420506041\n",
            "\n",
            "Alamat        : Kalipinggan RT3/RW14, Ringinanom, Tempuran, Magelang\n",
            "\n",
            "Tinggi Badan  : 168 cm\n",
            "\n",
            "Berat Badan   : 78 kg\n"
          ]
        }
      ]
    },
    {
      "cell_type": "markdown",
      "source": [
        "**Weekly Exercise 2**"
      ],
      "metadata": {
        "id": "GTc5d7GZzmyD"
      }
    },
    {
      "cell_type": "markdown",
      "source": [
        "Cara 1"
      ],
      "metadata": {
        "id": "uB2trQU10-yL"
      }
    },
    {
      "cell_type": "code",
      "source": [
        "print(\"\\033[1mUNIVERSITAS TIDAR\\033[0m\")\n",
        "print(\"Universitas Tidar merupakan Perguruan Tinggi Pemerintah atau Perguruan Tinggi Negeri yang telah ditetapkan berdasarkan Peraturan Presiden Republik Indonesia Nomor 23 Tahun 2014 pada tanggal 1 April 2014.\")\n",
        "print()\n",
        "print(\"\\033[1mJURUSAN TEKNIK ELEKTRO\\033[0m\")\n",
        "print(\"Jurusan Teknik Elektro terdiri atas tiga program studi, antara lain:\")\n",
        "print(\"   1. S1 Teknik Elektro \\033[3m(Bachelor of Electrical Engineering)\\033[0m\")\n",
        "print(\"   2. S1 Teknologi Informasi \\033[3m(Bachelor of Information Technology)\\033[0m\")\n",
        "print(\"   3. S1 Teknik Mekatronika \\033[3m(Bachelor of Mechatronics Engineering)\\033[0m\")"
      ],
      "metadata": {
        "colab": {
          "base_uri": "https://localhost:8080/"
        },
        "id": "xAPzsnFY1APZ",
        "outputId": "1296be55-a676-41db-c04f-45b998fd2e68"
      },
      "execution_count": null,
      "outputs": [
        {
          "output_type": "stream",
          "name": "stdout",
          "text": [
            "\u001b[1mUNIVERSITAS TIDAR\u001b[0m\n",
            "Universitas Tidar merupakan Perguruan Tinggi Pemerintah atau Perguruan Tinggi Negeri yang telah ditetapkan berdasarkan Peraturan Presiden Republik Indonesia Nomor 23 Tahun 2014 pada tanggal 1 April 2014.\n",
            "\n",
            "\u001b[1mJURUSAN TEKNIK ELEKTRO\u001b[0m\n",
            "Jurusan Teknik Elektro terdiri atas tiga program studi, antara lain:\n",
            "   1. S1 Teknik Elektro \u001b[3m(Bachelor of Electrical Engineering)\u001b[0m\n",
            "   2. S1 Teknologi Informasi \u001b[3m(Bachelor of Information Technology)\u001b[0m\n",
            "   3. S1 Teknik Mekatronika \u001b[3m(Bachelor of Mechatronics Engineering)\u001b[0m\n"
          ]
        }
      ]
    },
    {
      "cell_type": "markdown",
      "source": [
        "Cara 2"
      ],
      "metadata": {
        "id": "6MU-41Fl3esq"
      }
    },
    {
      "cell_type": "code",
      "source": [
        "print('''\\033[1mUNIVERSITAS TIDAR\\033[0m\n",
        "Universitas Tidar merupakan Perguruan Tinggi Pemerintah atau Perguruan Tinggi Negeri yang telah ditetapkan berdasarkan Peraturan Presiden Republik Indonesia Nomor 23 Tahun 2014 pada tanggal 1 April 2014.\\n\n",
        "\\033[1mJURUSAN TEKNIK ELEKTRO\\033[0m\n",
        "Jurusan Teknik Elektro terdiri atas tiga program studi, antara lain:\n",
        "   1. S1 Teknik Elektro \\033[3m(Bachelor of Electrical Engineering)\\033[0m\n",
        "   2. S1 Teknologi Informasi \\033[3m(Bachelor of Information Technology)\\033[0m\n",
        "   3. S1 Teknik Mekatronika \\033[3m(Bachelor of Mechatronics Engineering)\\033[0m''')"
      ],
      "metadata": {
        "colab": {
          "base_uri": "https://localhost:8080/"
        },
        "id": "5uXry1X93hCi",
        "outputId": "4b22dea5-71ff-4d22-ef20-a6c488d739fa"
      },
      "execution_count": null,
      "outputs": [
        {
          "output_type": "stream",
          "name": "stdout",
          "text": [
            "\u001b[1mUNIVERSITAS TIDAR\u001b[0m\n",
            "Universitas Tidar merupakan Perguruan Tinggi Pemerintah atau Perguruan Tinggi Negeri yang telah ditetapkan berdasarkan Peraturan Presiden Republik Indonesia Nomor 23 Tahun 2014 pada tanggal 1 April 2014.\n",
            "\n",
            "\u001b[1mJURUSAN TEKNIK ELEKTRO\u001b[0m\n",
            "Jurusan Teknik Elektro terdiri atas tiga program studi, antara lain:\n",
            "   1. S1 Teknik Elektro \u001b[3m(Bachelor of Electrical Engineering)\u001b[0m\n",
            "   2. S1 Teknologi Informasi \u001b[3m(Bachelor of Information Technology)\u001b[0m\n",
            "   3. S1 Teknik Mekatronika \u001b[3m(Bachelor of Mechatronics Engineering)\u001b[0m\n"
          ]
        }
      ]
    }
  ]
}