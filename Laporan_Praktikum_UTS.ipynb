{
  "nbformat": 4,
  "nbformat_minor": 0,
  "metadata": {
    "colab": {
      "provenance": [],
      "authorship_tag": "ABX9TyMBav/QpkpNJ5IbkYVqCL0H",
      "include_colab_link": true
    },
    "kernelspec": {
      "name": "python3",
      "display_name": "Python 3"
    },
    "language_info": {
      "name": "python"
    }
  },
  "cells": [
    {
      "cell_type": "markdown",
      "metadata": {
        "id": "view-in-github",
        "colab_type": "text"
      },
      "source": [
        "<a href=\"https://colab.research.google.com/github/Hanif-Abdillah-Alatas/Praktikum-Algoritma-Pemrograman/blob/main/Laporan_Praktikum_UTS.ipynb\" target=\"_parent\"><img src=\"https://colab.research.google.com/assets/colab-badge.svg\" alt=\"Open In Colab\"/></a>"
      ]
    },
    {
      "cell_type": "markdown",
      "source": [
        "**Nomer 1**"
      ],
      "metadata": {
        "id": "CDO_vj5VfgMc"
      }
    },
    {
      "cell_type": "code",
      "execution_count": null,
      "metadata": {
        "colab": {
          "base_uri": "https://localhost:8080/"
        },
        "id": "dJU2u0YLAVmA",
        "outputId": "debcd23c-40d3-4bcf-bbde-3688d6d479ce"
      },
      "outputs": [
        {
          "output_type": "stream",
          "name": "stdout",
          "text": [
            "Masukkan NPM Anda: 2420506041\n",
            "Jumlah Bilangan Genap: 8\n",
            "Jumlah Bilangan Ganjil: 2\n"
          ]
        }
      ],
      "source": [
        "npm = input(\"Masukkan NPM Anda: \")\n",
        "genap = 0\n",
        "ganjil = 0\n",
        "for angka in npm:\n",
        "  angka = int(angka)\n",
        "  if angka%2==0:\n",
        "    genap+=1\n",
        "  else:\n",
        "    ganjil+=1\n",
        "print(\"Jumlah Bilangan Genap:\", genap)\n",
        "print(\"Jumlah Bilangan Ganjil:\", ganjil)"
      ]
    },
    {
      "cell_type": "markdown",
      "source": [
        "**Nomer 2**"
      ],
      "metadata": {
        "id": "mjkM2Tz9fjgD"
      }
    },
    {
      "cell_type": "code",
      "source": [
        "print('''1\n",
        "2 4\n",
        "3 6 9\n",
        "4 8 12 16\n",
        "5 10 15 20 25\n",
        "6 12 18 24 30 36\n",
        "7 14 21 28 35 42 49\n",
        "8 16 24 32 40 48 56 64\n",
        "9 18 27 36 45 54 63 72 81\n",
        "10 20 30 40 50 60 70 80 90 100''')"
      ],
      "metadata": {
        "colab": {
          "base_uri": "https://localhost:8080/"
        },
        "id": "hrNheUDZAcBH",
        "outputId": "26c7dc1d-5ad3-4a88-c6de-2f1a1e8b7dab"
      },
      "execution_count": null,
      "outputs": [
        {
          "output_type": "stream",
          "name": "stdout",
          "text": [
            "1\n",
            "2 4\n",
            "3 6 9\n",
            "4 8 12 16\n",
            "5 10 15 20 25\n",
            "6 12 18 24 30 36\n",
            "7 14 21 28 35 42 49\n",
            "8 16 24 32 40 48 56 64\n",
            "9 18 27 36 45 54 63 72 81\n",
            "10 20 30 40 50 60 70 80 90 100\n"
          ]
        }
      ]
    },
    {
      "cell_type": "code",
      "source": [
        "n = int(input(\"Jumlah Baris: \"))\n",
        "for i in range(1, n+1):\n",
        "  for j in range(1, i+1):\n",
        "    print(i*j, end=\" \")\n",
        "  print()"
      ],
      "metadata": {
        "colab": {
          "base_uri": "https://localhost:8080/"
        },
        "id": "sE5xGIhzBVw_",
        "outputId": "9307e40d-e8e0-4852-cb27-2d866eac2003"
      },
      "execution_count": 5,
      "outputs": [
        {
          "output_type": "stream",
          "name": "stdout",
          "text": [
            "Jumlah Baris: 15\n",
            "1 \n",
            "2 4 \n",
            "3 6 9 \n",
            "4 8 12 16 \n",
            "5 10 15 20 25 \n",
            "6 12 18 24 30 36 \n",
            "7 14 21 28 35 42 49 \n",
            "8 16 24 32 40 48 56 64 \n",
            "9 18 27 36 45 54 63 72 81 \n",
            "10 20 30 40 50 60 70 80 90 100 \n",
            "11 22 33 44 55 66 77 88 99 110 121 \n",
            "12 24 36 48 60 72 84 96 108 120 132 144 \n",
            "13 26 39 52 65 78 91 104 117 130 143 156 169 \n",
            "14 28 42 56 70 84 98 112 126 140 154 168 182 196 \n",
            "15 30 45 60 75 90 105 120 135 150 165 180 195 210 225 \n"
          ]
        }
      ]
    }
  ]
}