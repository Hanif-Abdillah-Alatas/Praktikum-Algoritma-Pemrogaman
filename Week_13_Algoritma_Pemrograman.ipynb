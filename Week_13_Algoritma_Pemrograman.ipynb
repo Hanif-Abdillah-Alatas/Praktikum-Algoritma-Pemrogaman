{
  "nbformat": 4,
  "nbformat_minor": 0,
  "metadata": {
    "colab": {
      "provenance": [],
      "authorship_tag": "ABX9TyOMPq4IReijw6Fc1uo+M5Bp",
      "include_colab_link": true
    },
    "kernelspec": {
      "name": "python3",
      "display_name": "Python 3"
    },
    "language_info": {
      "name": "python"
    }
  },
  "cells": [
    {
      "cell_type": "markdown",
      "metadata": {
        "id": "view-in-github",
        "colab_type": "text"
      },
      "source": [
        "<a href=\"https://colab.research.google.com/github/Hanif-Abdillah-Alatas/Praktikum-Algoritma-Pemrograman/blob/main/Week_13_Algoritma_Pemrograman.ipynb\" target=\"_parent\"><img src=\"https://colab.research.google.com/assets/colab-badge.svg\" alt=\"Open In Colab\"/></a>"
      ]
    },
    {
      "cell_type": "markdown",
      "source": [
        "**Weekly Exercise 1**"
      ],
      "metadata": {
        "id": "MhhFqVdCweNj"
      }
    },
    {
      "cell_type": "code",
      "execution_count": 1,
      "metadata": {
        "colab": {
          "base_uri": "https://localhost:8080/"
        },
        "id": "O9rccgiXwZ-g",
        "outputId": "af65145d-e599-409c-e737-60f82de1672c"
      },
      "outputs": [
        {
          "output_type": "stream",
          "name": "stdout",
          "text": [
            "Nama: Bolpoint \n",
            "Stok: 10 \n",
            "Harga Satuan: Rp 2000 \n",
            "Harga Total: Rp 20000\n",
            "\n",
            "Nama: Pensil \n",
            "Stok: 10 \n",
            "Harga Satuan: Rp 1000 \n",
            "Harga Total: Rp 10000\n",
            "\n",
            "Nama: Penghapus \n",
            "Stok: 10 \n",
            "Harga Satuan: Rp 500 \n",
            "Harga Total: Rp 5000\n",
            "\n",
            "Total Harga Transaksi Penjualan: Rp 35000\n"
          ]
        }
      ],
      "source": [
        "class alat_tulis:\n",
        "    def __init__(self, nama, stok, harga_satuan):\n",
        "        self.nama = nama\n",
        "        self.stok = stok\n",
        "        self.harga_satuan = harga_satuan\n",
        "        self.harga_total = self.stok*self.harga_satuan\n",
        "\n",
        "    def set_nama(self, nama):\n",
        "        self.nama = nama\n",
        "\n",
        "    def set_stok(self, stok):\n",
        "        self.stok = stok\n",
        "        self.harga_total = self.stok*self.harga_satuan\n",
        "\n",
        "    def set_harga_satuan(self, harga_satuan):\n",
        "        self.harga_satuan = harga_satuan\n",
        "        self.harga_total = self.stok*self.harga_satuan\n",
        "\n",
        "    def get_nama(self):\n",
        "        return self.nama\n",
        "\n",
        "    def get_stok(self):\n",
        "        return self.stok\n",
        "\n",
        "    def get_harga_satuan(self):\n",
        "        return self.harga_satuan\n",
        "\n",
        "    def get_harga_total(self):\n",
        "        return self.harga_total\n",
        "\n",
        "    def total_harga(self):\n",
        "        self.harga_total = self.stok*self.harga_satuan\n",
        "\n",
        "bolpoint = alat_tulis(\"Bolpoint\", 10, 2000)\n",
        "pensil = alat_tulis(\"Pensil\", 10, 1000)\n",
        "penghapus = alat_tulis(\"Penghapus\", 10, 500)\n",
        "\n",
        "print(f\"Nama: {bolpoint.get_nama()} \\nStok: {bolpoint.get_stok()} \\nHarga Satuan: Rp {bolpoint.get_harga_satuan()} \\nHarga Total: Rp {bolpoint.get_harga_total()}\")\n",
        "print(f\"\\nNama: {pensil.get_nama()} \\nStok: {pensil.get_stok()} \\nHarga Satuan: Rp {pensil.get_harga_satuan()} \\nHarga Total: Rp {pensil.get_harga_total()}\")\n",
        "print(f\"\\nNama: {penghapus.get_nama()} \\nStok: {penghapus.get_stok()} \\nHarga Satuan: Rp {penghapus.get_harga_satuan()} \\nHarga Total: Rp {penghapus.get_harga_total()}\")\n",
        "\n",
        "total_harga = bolpoint.get_harga_total() + pensil.get_harga_total() + penghapus.get_harga_total()\n",
        "print(f\"\\nTotal Harga Transaksi Penjualan: Rp {total_harga}\")"
      ]
    }
  ]
}